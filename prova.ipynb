{
 "cells": [
  {
   "cell_type": "code",
   "execution_count": 19,
   "metadata": {},
   "outputs": [
    {
     "name": "stdout",
     "output_type": "stream",
     "text": [
      "{'title': ['orange', 'apple', 'apple', 'apple', 'banana', 'banana', 'banana'], 'a': ['N/A', 1, 2, 3, 3, 4, 5], 'b': [[6, 7, 8], 4, 5, 6, 2, 3, 4], 'c': [[9, 9, 9], 7, 8, 9, 2, 3, 4], 'd': [1, 2, 2, 2, 3, 3, 3]}\n"
     ]
    }
   ],
   "source": [
    "json_data = {'title': [\"orange\", \"apple\", \"banana\"], 'a': ['N/A', [0, 1, 2, 3], [2, 3, 4, 5]], 'b': [[6, 7, 8], [4, 5, 6], [2, 3, 4]], 'c': [[9, 9, 9], [7, 8, 9], [2, 3, 4]], 'd': [1, 2, 3, 4]}\n",
    "\n",
    "# Transform json values to a list of lists and fix the length of lists in 'a'\n",
    "result = [v for v in json_data.values()]\n",
    "result = result[1:3]\n",
    "for i, j in zip(result[0], result[1]):\n",
    "    if len(i) == len(j) + 1:\n",
    "        i.remove(i[0])\n",
    "    elif len(i) == len(j) + 2:\n",
    "        i.remove(i[0])\n",
    "        i.remove(i[-1])\n",
    "\n",
    "json_data['a'] = result[0]\n",
    "\n",
    "# For each title in json, duplicate the title n times where n is the length of the corresponding list in 'a'\n",
    "# Create a new json object with the duplicated titles and the corresponding values from 'a', 'b', 'c'\n",
    "new_json = {'title': [], 'a': [], 'b': [], 'c': [], 'd': []}\n",
    "for idx, (title, a, b, c, d) in enumerate(zip(json_data['title'], json_data['a'], json_data['b'], json_data['c'], json_data['d'])):\n",
    "    if a == 'N/A' or b == 'N/A' or c == 'N/A' or d == 'N/A':\n",
    "        new_json['title'].append(title)\n",
    "        new_json['a'].append(a)\n",
    "        new_json['b'].append(b)\n",
    "        new_json['c'].append(c)\n",
    "        new_json['d'].append(d)\n",
    "    else:\n",
    "        for a_value, b_value, c_value in zip(a, b, c):\n",
    "            new_json['title'].append(title)\n",
    "            new_json['a'].append(a_value)\n",
    "            new_json['b'].append(b_value)\n",
    "            new_json['c'].append(c_value)\n",
    "            new_json['d'].append(d) \n",
    "\n",
    "print(new_json)\n"
   ]
  }
 ],
 "metadata": {
  "kernelspec": {
   "display_name": "base",
   "language": "python",
   "name": "python3"
  },
  "language_info": {
   "codemirror_mode": {
    "name": "ipython",
    "version": 3
   },
   "file_extension": ".py",
   "mimetype": "text/x-python",
   "name": "python",
   "nbconvert_exporter": "python",
   "pygments_lexer": "ipython3",
   "version": "3.11.7"
  }
 },
 "nbformat": 4,
 "nbformat_minor": 2
}
